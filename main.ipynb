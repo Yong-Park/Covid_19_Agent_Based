{
 "cells": [
  {
   "cell_type": "code",
   "execution_count": 1,
   "metadata": {},
   "outputs": [],
   "source": [
    "import numpy as np\n",
    "import pandas as pd\n",
    "import matplotlib.pyplot as plt\n",
    "from datetime import datetime, timedelta"
   ]
  },
  {
   "cell_type": "code",
   "execution_count": 5,
   "metadata": {},
   "outputs": [],
   "source": [
    "dataset = pd.read_csv('./data/Covid Data.csv')"
   ]
  },
  {
   "cell_type": "code",
   "execution_count": 7,
   "metadata": {},
   "outputs": [
    {
     "name": "stdout",
     "output_type": "stream",
     "text": [
      "<class 'pandas.core.frame.DataFrame'>\n",
      "RangeIndex: 1048575 entries, 0 to 1048574\n",
      "Data columns (total 21 columns):\n",
      " #   Column                Non-Null Count    Dtype \n",
      "---  ------                --------------    ----- \n",
      " 0   USMER                 1048575 non-null  int64 \n",
      " 1   MEDICAL_UNIT          1048575 non-null  int64 \n",
      " 2   SEX                   1048575 non-null  int64 \n",
      " 3   PATIENT_TYPE          1048575 non-null  int64 \n",
      " 4   DATE_DIED             1048575 non-null  object\n",
      " 5   INTUBED               1048575 non-null  int64 \n",
      " 6   PNEUMONIA             1048575 non-null  int64 \n",
      " 7   AGE                   1048575 non-null  int64 \n",
      " 8   PREGNANT              1048575 non-null  int64 \n",
      " 9   DIABETES              1048575 non-null  int64 \n",
      " 10  COPD                  1048575 non-null  int64 \n",
      " 11  ASTHMA                1048575 non-null  int64 \n",
      " 12  INMSUPR               1048575 non-null  int64 \n",
      " 13  HIPERTENSION          1048575 non-null  int64 \n",
      " 14  OTHER_DISEASE         1048575 non-null  int64 \n",
      " 15  CARDIOVASCULAR        1048575 non-null  int64 \n",
      " 16  OBESITY               1048575 non-null  int64 \n",
      " 17  RENAL_CHRONIC         1048575 non-null  int64 \n",
      " 18  TOBACCO               1048575 non-null  int64 \n",
      " 19  CLASIFFICATION_FINAL  1048575 non-null  int64 \n",
      " 20  ICU                   1048575 non-null  int64 \n",
      "dtypes: int64(20), object(1)\n",
      "memory usage: 168.0+ MB\n"
     ]
    }
   ],
   "source": [
    "dataset.info()"
   ]
  },
  {
   "cell_type": "code",
   "execution_count": 11,
   "metadata": {},
   "outputs": [
    {
     "data": {
      "text/plain": [
       "array([1, 2], dtype=int64)"
      ]
     },
     "execution_count": 11,
     "metadata": {},
     "output_type": "execute_result"
    }
   ],
   "source": [
    "dataset[\"PATIENT_TYPE\"].unique()"
   ]
  },
  {
   "cell_type": "code",
   "execution_count": 12,
   "metadata": {},
   "outputs": [
    {
     "data": {
      "text/plain": [
       "array([97,  1,  2, 99], dtype=int64)"
      ]
     },
     "execution_count": 12,
     "metadata": {},
     "output_type": "execute_result"
    }
   ],
   "source": [
    "dataset[\"INTUBED\"].unique()"
   ]
  },
  {
   "cell_type": "code",
   "execution_count": 13,
   "metadata": {},
   "outputs": [
    {
     "data": {
      "text/plain": [
       "array([ 1,  2, 99], dtype=int64)"
      ]
     },
     "execution_count": 13,
     "metadata": {},
     "output_type": "execute_result"
    }
   ],
   "source": [
    "dataset[\"PNEUMONIA\"].unique()"
   ]
  },
  {
   "cell_type": "code",
   "execution_count": 17,
   "metadata": {},
   "outputs": [
    {
     "data": {
      "text/plain": [
       "array([ 2,  1, 98], dtype=int64)"
      ]
     },
     "execution_count": 17,
     "metadata": {},
     "output_type": "execute_result"
    }
   ],
   "source": [
    "dataset[\"ASTHMA\"].unique()"
   ]
  },
  {
   "cell_type": "code",
   "execution_count": 21,
   "metadata": {},
   "outputs": [
    {
     "data": {
      "text/plain": [
       "array([3, 5, 7, 6, 1, 2, 4], dtype=int64)"
      ]
     },
     "execution_count": 21,
     "metadata": {},
     "output_type": "execute_result"
    }
   ],
   "source": [
    "dataset[\"CLASIFFICATION_FINAL\"].unique()"
   ]
  },
  {
   "cell_type": "code",
   "execution_count": 18,
   "metadata": {},
   "outputs": [],
   "source": [
    "class Person:\n",
    "    def __init__(self, row):\n",
    "        self.position = np.array([np.random.rand()*100, np.random.rand()*100])\n",
    "        self.age = np.random.randint(18, 80)  # Asigna edades aleatorias\n",
    "        self.sex = np.random.choice([1, 2])  # Asigna género aleatorio\n",
    "        self.patient_type = np.random.choice([1,2])\n",
    "        self.intubed = np.random.choice([1,2,99])\n",
    "        self.pheumonia = np.random.choice([1,2,99])\n",
    "        self.asthma = np.random.choice([1,2,98])\n",
    "\n",
    "        # Inicialmente, nadie está infectado\n",
    "        self.infected = False\n",
    "        self.recovered = False\n",
    "        self.days_infected = 0\n",
    "\n",
    "        # Verifica si la persona está en el conjunto de pacientes con COVID-19\n",
    "        if row['CLASIFFICATION_FINAL'] in [1,2,3]:\n",
    "            self.infected = True\n"
   ]
  },
  {
   "cell_type": "code",
   "execution_count": 19,
   "metadata": {},
   "outputs": [],
   "source": [
    "def distance(p1, p2):\n",
    "    return np.linalg.norm(p1.position - p2.position)"
   ]
  },
  {
   "cell_type": "code",
   "execution_count": 20,
   "metadata": {},
   "outputs": [
    {
     "ename": "KeyboardInterrupt",
     "evalue": "",
     "output_type": "error",
     "traceback": [
      "\u001b[1;31m---------------------------------------------------------------------------\u001b[0m",
      "\u001b[1;31mKeyboardInterrupt\u001b[0m                         Traceback (most recent call last)",
      "\u001b[1;32mc:\\Users\\PARK JONGHYUN\\Desktop\\Universidad\\Cuarto año\\Segundo ciclo\\modelacion simulacion\\Covid_19_Agent_Based\\main.ipynb Cell 10\u001b[0m line \u001b[0;36m2\n\u001b[0;32m      <a href='vscode-notebook-cell:/c%3A/Users/PARK%20JONGHYUN/Desktop/Universidad/Cuarto%20a%C3%B1o/Segundo%20ciclo/modelacion%20simulacion/Covid_19_Agent_Based/main.ipynb#X12sZmlsZQ%3D%3D?line=0'>1</a>\u001b[0m \u001b[39m# Crear la población\u001b[39;00m\n\u001b[1;32m----> <a href='vscode-notebook-cell:/c%3A/Users/PARK%20JONGHYUN/Desktop/Universidad/Cuarto%20a%C3%B1o/Segundo%20ciclo/modelacion%20simulacion/Covid_19_Agent_Based/main.ipynb#X12sZmlsZQ%3D%3D?line=1'>2</a>\u001b[0m people \u001b[39m=\u001b[39m [Person(row) \u001b[39mfor\u001b[39;00m _, row \u001b[39min\u001b[39;00m dataset\u001b[39m.\u001b[39miterrows()]\n\u001b[0;32m      <a href='vscode-notebook-cell:/c%3A/Users/PARK%20JONGHYUN/Desktop/Universidad/Cuarto%20a%C3%B1o/Segundo%20ciclo/modelacion%20simulacion/Covid_19_Agent_Based/main.ipynb#X12sZmlsZQ%3D%3D?line=3'>4</a>\u001b[0m \u001b[39m# Definir parámetros de la simulación\u001b[39;00m\n\u001b[0;32m      <a href='vscode-notebook-cell:/c%3A/Users/PARK%20JONGHYUN/Desktop/Universidad/Cuarto%20a%C3%B1o/Segundo%20ciclo/modelacion%20simulacion/Covid_19_Agent_Based/main.ipynb#X12sZmlsZQ%3D%3D?line=4'>5</a>\u001b[0m num_days \u001b[39m=\u001b[39m \u001b[39m100\u001b[39m\n",
      "\u001b[1;32mc:\\Users\\PARK JONGHYUN\\Desktop\\Universidad\\Cuarto año\\Segundo ciclo\\modelacion simulacion\\Covid_19_Agent_Based\\main.ipynb Cell 10\u001b[0m line \u001b[0;36m2\n\u001b[0;32m      <a href='vscode-notebook-cell:/c%3A/Users/PARK%20JONGHYUN/Desktop/Universidad/Cuarto%20a%C3%B1o/Segundo%20ciclo/modelacion%20simulacion/Covid_19_Agent_Based/main.ipynb#X12sZmlsZQ%3D%3D?line=0'>1</a>\u001b[0m \u001b[39m# Crear la población\u001b[39;00m\n\u001b[1;32m----> <a href='vscode-notebook-cell:/c%3A/Users/PARK%20JONGHYUN/Desktop/Universidad/Cuarto%20a%C3%B1o/Segundo%20ciclo/modelacion%20simulacion/Covid_19_Agent_Based/main.ipynb#X12sZmlsZQ%3D%3D?line=1'>2</a>\u001b[0m people \u001b[39m=\u001b[39m [Person(row) \u001b[39mfor\u001b[39;00m _, row \u001b[39min\u001b[39;00m dataset\u001b[39m.\u001b[39miterrows()]\n\u001b[0;32m      <a href='vscode-notebook-cell:/c%3A/Users/PARK%20JONGHYUN/Desktop/Universidad/Cuarto%20a%C3%B1o/Segundo%20ciclo/modelacion%20simulacion/Covid_19_Agent_Based/main.ipynb#X12sZmlsZQ%3D%3D?line=3'>4</a>\u001b[0m \u001b[39m# Definir parámetros de la simulación\u001b[39;00m\n\u001b[0;32m      <a href='vscode-notebook-cell:/c%3A/Users/PARK%20JONGHYUN/Desktop/Universidad/Cuarto%20a%C3%B1o/Segundo%20ciclo/modelacion%20simulacion/Covid_19_Agent_Based/main.ipynb#X12sZmlsZQ%3D%3D?line=4'>5</a>\u001b[0m num_days \u001b[39m=\u001b[39m \u001b[39m100\u001b[39m\n",
      "\u001b[1;32mc:\\Users\\PARK JONGHYUN\\Desktop\\Universidad\\Cuarto año\\Segundo ciclo\\modelacion simulacion\\Covid_19_Agent_Based\\main.ipynb Cell 10\u001b[0m line \u001b[0;36m8\n\u001b[0;32m      <a href='vscode-notebook-cell:/c%3A/Users/PARK%20JONGHYUN/Desktop/Universidad/Cuarto%20a%C3%B1o/Segundo%20ciclo/modelacion%20simulacion/Covid_19_Agent_Based/main.ipynb#X12sZmlsZQ%3D%3D?line=5'>6</a>\u001b[0m \u001b[39mself\u001b[39m\u001b[39m.\u001b[39mpatient_type \u001b[39m=\u001b[39m np\u001b[39m.\u001b[39mrandom\u001b[39m.\u001b[39mchoice([\u001b[39m1\u001b[39m,\u001b[39m2\u001b[39m])\n\u001b[0;32m      <a href='vscode-notebook-cell:/c%3A/Users/PARK%20JONGHYUN/Desktop/Universidad/Cuarto%20a%C3%B1o/Segundo%20ciclo/modelacion%20simulacion/Covid_19_Agent_Based/main.ipynb#X12sZmlsZQ%3D%3D?line=6'>7</a>\u001b[0m \u001b[39mself\u001b[39m\u001b[39m.\u001b[39mintubed \u001b[39m=\u001b[39m np\u001b[39m.\u001b[39mrandom\u001b[39m.\u001b[39mchoice([\u001b[39m1\u001b[39m,\u001b[39m2\u001b[39m,\u001b[39m99\u001b[39m])\n\u001b[1;32m----> <a href='vscode-notebook-cell:/c%3A/Users/PARK%20JONGHYUN/Desktop/Universidad/Cuarto%20a%C3%B1o/Segundo%20ciclo/modelacion%20simulacion/Covid_19_Agent_Based/main.ipynb#X12sZmlsZQ%3D%3D?line=7'>8</a>\u001b[0m \u001b[39mself\u001b[39m\u001b[39m.\u001b[39mpheumonia \u001b[39m=\u001b[39m np\u001b[39m.\u001b[39;49mrandom\u001b[39m.\u001b[39;49mchoice([\u001b[39m1\u001b[39;49m,\u001b[39m2\u001b[39;49m,\u001b[39m99\u001b[39;49m])\n\u001b[0;32m      <a href='vscode-notebook-cell:/c%3A/Users/PARK%20JONGHYUN/Desktop/Universidad/Cuarto%20a%C3%B1o/Segundo%20ciclo/modelacion%20simulacion/Covid_19_Agent_Based/main.ipynb#X12sZmlsZQ%3D%3D?line=8'>9</a>\u001b[0m \u001b[39mself\u001b[39m\u001b[39m.\u001b[39masthma \u001b[39m=\u001b[39m np\u001b[39m.\u001b[39mrandom\u001b[39m.\u001b[39mchoice([\u001b[39m1\u001b[39m,\u001b[39m2\u001b[39m,\u001b[39m98\u001b[39m])\n\u001b[0;32m     <a href='vscode-notebook-cell:/c%3A/Users/PARK%20JONGHYUN/Desktop/Universidad/Cuarto%20a%C3%B1o/Segundo%20ciclo/modelacion%20simulacion/Covid_19_Agent_Based/main.ipynb#X12sZmlsZQ%3D%3D?line=10'>11</a>\u001b[0m \u001b[39m# Inicialmente, nadie está infectado\u001b[39;00m\n",
      "\u001b[1;31mKeyboardInterrupt\u001b[0m: "
     ]
    }
   ],
   "source": [
    "# Crear la población\n",
    "people = [Person(row) for _, row in dataset.iterrows()]\n",
    "\n",
    "# Definir parámetros de la simulación\n",
    "num_days = 100\n",
    "infection_radius = 5  # Ajusta según sea necesario\n",
    "infection_prob = 0.2  # Ajusta según sea necesario\n",
    "mortality_rate = 0.03  # Ajusta según sea necesario\n",
    "\n",
    "# Simular la propagación del virus\n",
    "list_images = []"
   ]
  },
  {
   "cell_type": "code",
   "execution_count": null,
   "metadata": {},
   "outputs": [],
   "source": [
    "for day in range(num_days):\n",
    "    infected_people = [person for person in people if person.infected and not person.recovered]\n",
    "\n",
    "    for person in people:\n",
    "        if person.infected and not person.recovered:\n",
    "            for other in people:\n",
    "                if not other.infected and not other.recovered and distance(person, other) < infection_radius:\n",
    "                    if np.random.rand() < infection_prob:\n",
    "                        other.infected = True\n",
    "\n",
    "            # Simular la recuperación o muerte después de ciertos días\n",
    "            person.days_infected += 1\n",
    "            if person.days_infected >= np.random.randint(7, 14):  # Ajusta según sea necesario\n",
    "                if np.random.rand() < mortality_rate:\n",
    "                    person.recovered = False\n",
    "                    person.infected = False\n",
    "                else:\n",
    "                    person.recovered = True\n",
    "\n",
    "    # Graficar usando la lista de colores y marcadores\n",
    "    x_infected = [person.position[0] for person in infected_people]\n",
    "    y_infected = [person.position[1] for person in infected_people]\n",
    "    x_recovered = [person.position[0] for person in people if person.recovered]\n",
    "    y_recovered = [person.position[1] for person in people if person.recovered]\n",
    "    x_not_infected = [person.position[0] for person in people if not person.infected]\n",
    "    y_not_infected = [person.position[1] for person in people if not person.infected]\n",
    "\n",
    "    plt.plot(x_not_infected, y_not_infected, 'bo', label='Not Infected')\n",
    "    plt.plot(x_infected, y_infected, 'ro', label='Infected')\n",
    "    plt.plot(x_recovered, y_recovered, 'go', label='Recovered')\n",
    "    plt.xlabel(\"x\")\n",
    "    plt.ylabel(\"y\")\n",
    "    plt.title(\"Day \"+str(day))\n",
    "    plt.legend()\n",
    "    name = \"day_\"+str(day)+\".jpg\"\n",
    "    plt.savefig(name, format=\"jpg\")\n",
    "    plt.close()\n",
    "    list_images.append(name)"
   ]
  },
  {
   "cell_type": "code",
   "execution_count": null,
   "metadata": {},
   "outputs": [],
   "source": [
    "images = [Image.open(path) for path in list_images]\n",
    "\n",
    "# Guardar las imágenes como un GIF animado\n",
    "gif_path = \"covid_simulation.gif\"\n",
    "images[0].save(gif_path, save_all=True, append_images=images[1:], loop=0, duration=400)\n",
    "\n",
    "# Mostrar el GIF animado\n",
    "display(IPImage(filename=gif_path))"
   ]
  }
 ],
 "metadata": {
  "kernelspec": {
   "display_name": "pyEnv",
   "language": "python",
   "name": "python3"
  },
  "language_info": {
   "codemirror_mode": {
    "name": "ipython",
    "version": 3
   },
   "file_extension": ".py",
   "mimetype": "text/x-python",
   "name": "python",
   "nbconvert_exporter": "python",
   "pygments_lexer": "ipython3",
   "version": "3.9.12"
  }
 },
 "nbformat": 4,
 "nbformat_minor": 2
}
